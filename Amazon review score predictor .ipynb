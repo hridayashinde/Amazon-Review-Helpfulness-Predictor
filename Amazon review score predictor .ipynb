{
 "cells": [
  {
   "cell_type": "code",
   "execution_count": 1,
   "metadata": {},
   "outputs": [],
   "source": [
    "## import all the necessary libraries\n",
    "import warnings\n",
    "\n",
    "#Ignoring unnecessory warnings\n",
    "warnings.filterwarnings(\"ignore\")                   \n",
    "\n",
    "import numpy as np                                  #for large and multi-dimensional arrays\n",
    "import pandas as pd                                 #for data manipulation and analysis\n",
    "import nltk    "
   ]
  },
  {
   "cell_type": "code",
   "execution_count": 2,
   "metadata": {},
   "outputs": [
    {
     "name": "stdout",
     "output_type": "stream",
     "text": [
      "(568454, 10)\n"
     ]
    },
    {
     "data": {
      "text/html": [
       "<div>\n",
       "<style scoped>\n",
       "    .dataframe tbody tr th:only-of-type {\n",
       "        vertical-align: middle;\n",
       "    }\n",
       "\n",
       "    .dataframe tbody tr th {\n",
       "        vertical-align: top;\n",
       "    }\n",
       "\n",
       "    .dataframe thead th {\n",
       "        text-align: right;\n",
       "    }\n",
       "</style>\n",
       "<table border=\"1\" class=\"dataframe\">\n",
       "  <thead>\n",
       "    <tr style=\"text-align: right;\">\n",
       "      <th></th>\n",
       "      <th>Id</th>\n",
       "      <th>ProductId</th>\n",
       "      <th>UserId</th>\n",
       "      <th>ProfileName</th>\n",
       "      <th>HelpfulnessNumerator</th>\n",
       "      <th>HelpfulnessDenominator</th>\n",
       "      <th>Score</th>\n",
       "      <th>Time</th>\n",
       "      <th>Summary</th>\n",
       "      <th>Text</th>\n",
       "    </tr>\n",
       "  </thead>\n",
       "  <tbody>\n",
       "    <tr>\n",
       "      <th>0</th>\n",
       "      <td>1</td>\n",
       "      <td>B001E4KFG0</td>\n",
       "      <td>A3SGXH7AUHU8GW</td>\n",
       "      <td>delmartian</td>\n",
       "      <td>1</td>\n",
       "      <td>1</td>\n",
       "      <td>5</td>\n",
       "      <td>1303862400</td>\n",
       "      <td>Good Quality Dog Food</td>\n",
       "      <td>I have bought several of the Vitality canned d...</td>\n",
       "    </tr>\n",
       "    <tr>\n",
       "      <th>1</th>\n",
       "      <td>2</td>\n",
       "      <td>B00813GRG4</td>\n",
       "      <td>A1D87F6ZCVE5NK</td>\n",
       "      <td>dll pa</td>\n",
       "      <td>0</td>\n",
       "      <td>0</td>\n",
       "      <td>1</td>\n",
       "      <td>1346976000</td>\n",
       "      <td>Not as Advertised</td>\n",
       "      <td>Product arrived labeled as Jumbo Salted Peanut...</td>\n",
       "    </tr>\n",
       "    <tr>\n",
       "      <th>2</th>\n",
       "      <td>3</td>\n",
       "      <td>B000LQOCH0</td>\n",
       "      <td>ABXLMWJIXXAIN</td>\n",
       "      <td>Natalia Corres \"Natalia Corres\"</td>\n",
       "      <td>1</td>\n",
       "      <td>1</td>\n",
       "      <td>4</td>\n",
       "      <td>1219017600</td>\n",
       "      <td>\"Delight\" says it all</td>\n",
       "      <td>This is a confection that has been around a fe...</td>\n",
       "    </tr>\n",
       "    <tr>\n",
       "      <th>3</th>\n",
       "      <td>4</td>\n",
       "      <td>B000UA0QIQ</td>\n",
       "      <td>A395BORC6FGVXV</td>\n",
       "      <td>Karl</td>\n",
       "      <td>3</td>\n",
       "      <td>3</td>\n",
       "      <td>2</td>\n",
       "      <td>1307923200</td>\n",
       "      <td>Cough Medicine</td>\n",
       "      <td>If you are looking for the secret ingredient i...</td>\n",
       "    </tr>\n",
       "    <tr>\n",
       "      <th>4</th>\n",
       "      <td>5</td>\n",
       "      <td>B006K2ZZ7K</td>\n",
       "      <td>A1UQRSCLF8GW1T</td>\n",
       "      <td>Michael D. Bigham \"M. Wassir\"</td>\n",
       "      <td>0</td>\n",
       "      <td>0</td>\n",
       "      <td>5</td>\n",
       "      <td>1350777600</td>\n",
       "      <td>Great taffy</td>\n",
       "      <td>Great taffy at a great price.  There was a wid...</td>\n",
       "    </tr>\n",
       "  </tbody>\n",
       "</table>\n",
       "</div>"
      ],
      "text/plain": [
       "   Id   ProductId          UserId                      ProfileName  \\\n",
       "0   1  B001E4KFG0  A3SGXH7AUHU8GW                       delmartian   \n",
       "1   2  B00813GRG4  A1D87F6ZCVE5NK                           dll pa   \n",
       "2   3  B000LQOCH0   ABXLMWJIXXAIN  Natalia Corres \"Natalia Corres\"   \n",
       "3   4  B000UA0QIQ  A395BORC6FGVXV                             Karl   \n",
       "4   5  B006K2ZZ7K  A1UQRSCLF8GW1T    Michael D. Bigham \"M. Wassir\"   \n",
       "\n",
       "   HelpfulnessNumerator  HelpfulnessDenominator  Score        Time  \\\n",
       "0                     1                       1      5  1303862400   \n",
       "1                     0                       0      1  1346976000   \n",
       "2                     1                       1      4  1219017600   \n",
       "3                     3                       3      2  1307923200   \n",
       "4                     0                       0      5  1350777600   \n",
       "\n",
       "                 Summary                                               Text  \n",
       "0  Good Quality Dog Food  I have bought several of the Vitality canned d...  \n",
       "1      Not as Advertised  Product arrived labeled as Jumbo Salted Peanut...  \n",
       "2  \"Delight\" says it all  This is a confection that has been around a fe...  \n",
       "3         Cough Medicine  If you are looking for the secret ingredient i...  \n",
       "4            Great taffy  Great taffy at a great price.  There was a wid...  "
      ]
     },
     "execution_count": 2,
     "metadata": {},
     "output_type": "execute_result"
    }
   ],
   "source": [
    "##reading dataset\n",
    "df = pd.read_csv('Reviews.csv')\n",
    "\n",
    "print(df.shape)\n",
    "df.head()"
   ]
  },
  {
   "cell_type": "code",
   "execution_count": 3,
   "metadata": {},
   "outputs": [
    {
     "data": {
      "text/plain": [
       "Index(['Id', 'ProductId', 'UserId', 'ProfileName', 'HelpfulnessNumerator',\n",
       "       'HelpfulnessDenominator', 'Score', 'Time', 'Summary', 'Text'],\n",
       "      dtype='object')"
      ]
     },
     "execution_count": 3,
     "metadata": {},
     "output_type": "execute_result"
    }
   ],
   "source": [
    "df.columns"
   ]
  },
  {
   "cell_type": "markdown",
   "metadata": {},
   "source": [
    "### Data Preparation"
   ]
  },
  {
   "cell_type": "code",
   "execution_count": 4,
   "metadata": {},
   "outputs": [],
   "source": [
    "### add some columns for upvote metrics\n",
    "df['Helpful %'] = np.where(df['HelpfulnessDenominator'] > 0, df['HelpfulnessNumerator'] / df['HelpfulnessDenominator'], -1)"
   ]
  },
  {
   "cell_type": "code",
   "execution_count": 5,
   "metadata": {},
   "outputs": [
    {
     "data": {
      "text/html": [
       "<div>\n",
       "<style scoped>\n",
       "    .dataframe tbody tr th:only-of-type {\n",
       "        vertical-align: middle;\n",
       "    }\n",
       "\n",
       "    .dataframe tbody tr th {\n",
       "        vertical-align: top;\n",
       "    }\n",
       "\n",
       "    .dataframe thead th {\n",
       "        text-align: right;\n",
       "    }\n",
       "</style>\n",
       "<table border=\"1\" class=\"dataframe\">\n",
       "  <thead>\n",
       "    <tr style=\"text-align: right;\">\n",
       "      <th></th>\n",
       "      <th>Id</th>\n",
       "      <th>ProductId</th>\n",
       "      <th>UserId</th>\n",
       "      <th>ProfileName</th>\n",
       "      <th>HelpfulnessNumerator</th>\n",
       "      <th>HelpfulnessDenominator</th>\n",
       "      <th>Score</th>\n",
       "      <th>Time</th>\n",
       "      <th>Summary</th>\n",
       "      <th>Text</th>\n",
       "      <th>Helpful %</th>\n",
       "    </tr>\n",
       "  </thead>\n",
       "  <tbody>\n",
       "    <tr>\n",
       "      <th>0</th>\n",
       "      <td>1</td>\n",
       "      <td>B001E4KFG0</td>\n",
       "      <td>A3SGXH7AUHU8GW</td>\n",
       "      <td>delmartian</td>\n",
       "      <td>1</td>\n",
       "      <td>1</td>\n",
       "      <td>5</td>\n",
       "      <td>1303862400</td>\n",
       "      <td>Good Quality Dog Food</td>\n",
       "      <td>I have bought several of the Vitality canned d...</td>\n",
       "      <td>1.0</td>\n",
       "    </tr>\n",
       "    <tr>\n",
       "      <th>1</th>\n",
       "      <td>2</td>\n",
       "      <td>B00813GRG4</td>\n",
       "      <td>A1D87F6ZCVE5NK</td>\n",
       "      <td>dll pa</td>\n",
       "      <td>0</td>\n",
       "      <td>0</td>\n",
       "      <td>1</td>\n",
       "      <td>1346976000</td>\n",
       "      <td>Not as Advertised</td>\n",
       "      <td>Product arrived labeled as Jumbo Salted Peanut...</td>\n",
       "      <td>-1.0</td>\n",
       "    </tr>\n",
       "    <tr>\n",
       "      <th>2</th>\n",
       "      <td>3</td>\n",
       "      <td>B000LQOCH0</td>\n",
       "      <td>ABXLMWJIXXAIN</td>\n",
       "      <td>Natalia Corres \"Natalia Corres\"</td>\n",
       "      <td>1</td>\n",
       "      <td>1</td>\n",
       "      <td>4</td>\n",
       "      <td>1219017600</td>\n",
       "      <td>\"Delight\" says it all</td>\n",
       "      <td>This is a confection that has been around a fe...</td>\n",
       "      <td>1.0</td>\n",
       "    </tr>\n",
       "    <tr>\n",
       "      <th>3</th>\n",
       "      <td>4</td>\n",
       "      <td>B000UA0QIQ</td>\n",
       "      <td>A395BORC6FGVXV</td>\n",
       "      <td>Karl</td>\n",
       "      <td>3</td>\n",
       "      <td>3</td>\n",
       "      <td>2</td>\n",
       "      <td>1307923200</td>\n",
       "      <td>Cough Medicine</td>\n",
       "      <td>If you are looking for the secret ingredient i...</td>\n",
       "      <td>1.0</td>\n",
       "    </tr>\n",
       "    <tr>\n",
       "      <th>4</th>\n",
       "      <td>5</td>\n",
       "      <td>B006K2ZZ7K</td>\n",
       "      <td>A1UQRSCLF8GW1T</td>\n",
       "      <td>Michael D. Bigham \"M. Wassir\"</td>\n",
       "      <td>0</td>\n",
       "      <td>0</td>\n",
       "      <td>5</td>\n",
       "      <td>1350777600</td>\n",
       "      <td>Great taffy</td>\n",
       "      <td>Great taffy at a great price.  There was a wid...</td>\n",
       "      <td>-1.0</td>\n",
       "    </tr>\n",
       "  </tbody>\n",
       "</table>\n",
       "</div>"
      ],
      "text/plain": [
       "   Id   ProductId          UserId                      ProfileName  \\\n",
       "0   1  B001E4KFG0  A3SGXH7AUHU8GW                       delmartian   \n",
       "1   2  B00813GRG4  A1D87F6ZCVE5NK                           dll pa   \n",
       "2   3  B000LQOCH0   ABXLMWJIXXAIN  Natalia Corres \"Natalia Corres\"   \n",
       "3   4  B000UA0QIQ  A395BORC6FGVXV                             Karl   \n",
       "4   5  B006K2ZZ7K  A1UQRSCLF8GW1T    Michael D. Bigham \"M. Wassir\"   \n",
       "\n",
       "   HelpfulnessNumerator  HelpfulnessDenominator  Score        Time  \\\n",
       "0                     1                       1      5  1303862400   \n",
       "1                     0                       0      1  1346976000   \n",
       "2                     1                       1      4  1219017600   \n",
       "3                     3                       3      2  1307923200   \n",
       "4                     0                       0      5  1350777600   \n",
       "\n",
       "                 Summary                                               Text  \\\n",
       "0  Good Quality Dog Food  I have bought several of the Vitality canned d...   \n",
       "1      Not as Advertised  Product arrived labeled as Jumbo Salted Peanut...   \n",
       "2  \"Delight\" says it all  This is a confection that has been around a fe...   \n",
       "3         Cough Medicine  If you are looking for the secret ingredient i...   \n",
       "4            Great taffy  Great taffy at a great price.  There was a wid...   \n",
       "\n",
       "   Helpful %  \n",
       "0        1.0  \n",
       "1       -1.0  \n",
       "2        1.0  \n",
       "3        1.0  \n",
       "4       -1.0  "
      ]
     },
     "execution_count": 5,
     "metadata": {},
     "output_type": "execute_result"
    }
   ],
   "source": [
    "df.head()"
   ]
  },
  {
   "cell_type": "markdown",
   "metadata": {},
   "source": [
    "#### assigning different different labels to helpful% according to its value"
   ]
  },
  {
   "cell_type": "code",
   "execution_count": 6,
   "metadata": {},
   "outputs": [
    {
     "data": {
      "text/plain": [
       "array([ 1.        , -1.        ,  0.8       ,  0.        ,  0.5       ,\n",
       "        0.66666667,  0.25      ,  0.89473684,  0.83333333,  0.75      ,\n",
       "        0.33333333,  0.3       ,  0.11111111,  0.42857143,  0.875     ,\n",
       "        0.85714286,  0.2       ,  0.26315789,  0.6       ,  0.71428571,\n",
       "        0.53846154,  0.57142857,  0.91489362,  0.86666667,  0.82352941,\n",
       "        0.78571429,  0.74074074,  0.4       ,  0.375     ,  0.28571429,\n",
       "        0.14285714,  0.77777778,  0.125     ,  0.9       ,  0.94117647,\n",
       "        0.92307692,  0.7       ,  0.45454545,  0.88888889,  0.83870968,\n",
       "        0.9047619 ,  0.92857143,  0.90909091,  0.91666667,  0.84615385,\n",
       "        0.10526316,  0.98214286,  0.97826087,  0.7518797 ,  0.3125    ,\n",
       "        0.1       ,  0.18518519,  0.88      ,  0.69230769,  0.625     ,\n",
       "        0.54545455,  0.41666667,  0.45833333,  0.22222222,  0.81818182,\n",
       "        0.8125    ,  0.16666667,  0.93103448,  0.88235294,  0.23529412,\n",
       "        0.63636364,  0.81481481,  0.95652174,  0.64285714,  0.58333333,\n",
       "        0.94444444,  0.921875  ,  0.86574074,  0.96      ,  0.91304348,\n",
       "        0.64705882,  0.95833333,  0.09090909,  0.13333333,  0.52941176,\n",
       "        0.96969697,  0.36363636,  0.07142857,  0.72727273,  0.18181818,\n",
       "        0.96666667,  0.99074074,  0.97297297,  0.80645161,  0.64102564,\n",
       "        0.55555556,  0.4375    ,  0.76923077,  0.28      ,  0.15384615,\n",
       "        0.44444444,  0.5625    ,  0.53333333,  0.47058824,  0.47222222,\n",
       "        0.23076923,  0.25925926,  0.98876404,  0.88372093,  0.19047619,\n",
       "        0.94594595,  0.84313725,  0.96629213,  0.72222222,  0.05882353,\n",
       "        0.27272727,  0.97959184,  0.26666667,  0.30769231,  0.94736842,\n",
       "        0.27777778,  0.6875    ,  0.92      ,  0.90566038,  0.95      ,\n",
       "        0.9375    ,  0.9137931 ,  0.82857143,  0.86363636,  0.85      ,\n",
       "        0.96428571,  0.95238095,  0.08333333,  0.97560976,  0.93333333,\n",
       "        0.46666667,  0.96153846,  0.24      ,  0.92682927,  0.93548387,\n",
       "        0.86956522,  0.06666667,  0.98461538,  0.97      ,  0.97619048,\n",
       "        0.925     ,  0.88461538,  0.61538462,  0.09375   ,  0.79166667,\n",
       "        0.70588235,  0.45      ,  0.93939394,  0.90322581,  0.68      ,\n",
       "        0.95454545,  0.04166667,  0.89655172,  0.88571429,  0.38461538,\n",
       "        0.07692308,  0.12121212,  0.92237443,  0.92156863,  0.36585366,\n",
       "        0.88095238,  0.84      ,  0.61904762,  0.96129032,  0.96385542,\n",
       "        0.90588235,  0.87878788,  0.05555556,  0.80952381,  0.20689655,\n",
       "        0.07407407,  0.35      ,  0.77272727,  0.91428571,  0.04545455,\n",
       "        0.76470588,  0.70833333,  0.73333333,  0.93650794,  0.8671875 ,\n",
       "        0.75949367,  0.65957447,  0.57692308,  0.41176471,  0.40909091,\n",
       "        0.34693878,  0.30263158,  0.16176471,  0.65      ,  0.96296296,\n",
       "        0.96808511,  0.94915254,  0.98290598,  0.9893617 ,  0.95744681,\n",
       "        0.96268657,  0.98305085,  0.61111111,  0.59183673,  0.98913043,\n",
       "        0.98809524,  0.92982456,  0.78947368,  0.75757576,  0.82608696,\n",
       "        0.96491228,  0.84507042,  0.98412698,  0.96551724,  0.87341772,\n",
       "        0.73913043,  0.7037037 ,  0.98888889,  0.7826087 ,  0.17647059,\n",
       "        0.96226415,  0.94339623,  0.97058824,  0.57894737,  0.47368421,\n",
       "        0.5106383 ,  0.97777778,  0.92352941,  0.78378378,  0.97674419,\n",
       "        0.35714286,  0.94805195,  0.94285714,  0.86538462,  0.43478261,\n",
       "        0.99186992,  0.8627451 ,  0.97142857,  0.98484848,  0.73076923,\n",
       "        0.68181818,  0.63333333,  0.64583333,  0.96774194,  0.05263158,\n",
       "        0.36842105,  0.82926829,  0.92045455,  0.34782609,  0.85365854,\n",
       "        0.91803279,  0.97222222,  0.46153846,  0.2173913 ,  0.82051282,\n",
       "        0.29032258,  0.95754717,  0.91176471,  0.04761905,  0.65714286,\n",
       "        0.13636364,  0.77142857,  0.953125  ,  0.92592593,  0.0862069 ,\n",
       "        0.80555556,  0.20512821,  0.29411765,  0.9925187 ,  0.98564593,\n",
       "        0.99253731,  0.80487805,  0.82142857,  0.76      ,  0.21428571,\n",
       "        0.31914894,  0.02702703,  0.20833333,  0.92105263,  0.78125   ,\n",
       "        0.61290323,  0.97435897,  0.07894737,  0.72413793,  0.03125   ,\n",
       "        0.68421053,  0.97979798,  0.38888889,  0.975     ,  0.80769231,\n",
       "        0.06060606,  0.93023256,  0.97260274,  0.90769231,  0.31372549,\n",
       "        0.15789474,  0.32258065,  0.95959596,  0.21052632,  0.84210526,\n",
       "        0.32      ,  0.92631579,  0.03703704,  1.5       ,  0.11428571,\n",
       "        0.88333333,  0.1875    ,  0.96875   ,  0.64      ,  0.30434783,\n",
       "        0.93150685,  0.88709677,  0.75609756,  0.60606061,  0.54166667,\n",
       "        0.52380952,  0.98275862,  0.98630137,  0.76190476,  0.85106383,\n",
       "        0.79069767,  0.8974359 ,  0.93617021,  0.87234043,  0.0625    ,\n",
       "        0.075     ,  0.39393939,  0.74107143,  0.49090909,  0.90243902,\n",
       "        0.56521739,  0.27027027,  0.03846154,  0.31147541,  0.24528302,\n",
       "        0.97727273,  0.60714286,  0.98360656,  0.95918367,  0.94      ,\n",
       "        0.72      ,  0.15      ,  0.12903226,  0.35294118,  0.14084507,\n",
       "        0.13888889,  0.08219178,  0.03636364,  0.13043478,  0.55172414,\n",
       "        0.64516129,  0.98      ,  0.76271186,  0.98333333,  0.95384615,\n",
       "        0.85294118,  0.13513514,  0.32142857,  0.87912088,  0.82758621,\n",
       "        0.72881356,  0.73684211,  0.86111111,  0.81355932,  0.72839506,\n",
       "        0.73809524,  0.74193548,  0.51612903,  0.7109375 ,  0.69565217,\n",
       "        0.02941176,  0.17391304,  0.85185185,  0.06451613,  0.92727273,\n",
       "        0.08695652,  0.03333333,  0.475     ,  0.32352941,  0.22727273,\n",
       "        0.98113208,  0.42307692,  3.        ,  0.90625   ,  0.8404908 ,\n",
       "        0.72093023,  0.98181818,  0.69047619,  0.05660377,  0.93159609,\n",
       "        0.95604396,  0.95348837,  0.98823529,  0.95774648,  0.94520548,\n",
       "        0.62068966,  0.22058824,  0.25827815,  0.86842105,  0.82222222,\n",
       "        0.89041096,  0.78846154,  0.63157895,  0.98717949,  0.93406593,\n",
       "        0.11538462,  0.04      ,  0.86206897,  0.38095238,  0.95555556,\n",
       "        0.97402597,  0.94230769,  0.47619048,  0.99166667,  0.98387097,\n",
       "        0.93589744,  0.89915966,  0.88489209,  0.89285714,  0.8989899 ,\n",
       "        0.84415584,  0.02857143,  0.98496241,  0.96590909,  0.91240876,\n",
       "        0.94545455,  0.90526316,  0.67924528,  0.109375  ,  0.89090909,\n",
       "        0.98795181,  0.02777778,  0.94642857,  0.18918919,  0.67605634,\n",
       "        0.55      ,  0.53030303,  0.45098039,  0.05454545,  0.96363636,\n",
       "        0.06122449,  0.98039216,  0.99443414,  0.98688525,  0.27586207,\n",
       "        0.1025641 ,  0.11764706,  0.05128205,  0.81395349,  0.69387755,\n",
       "        0.98611111,  0.99466192,  0.98951782,  0.98723404,  0.97122302,\n",
       "        0.97183099,  0.75862069,  0.98550725,  0.97368421,  0.56      ,\n",
       "        0.98657718,  0.90196078,  0.77419355,  0.65625   ,  0.87012987,\n",
       "        0.25581395,  0.21153846,  0.71794872,  0.52      ,  0.02222222,\n",
       "        0.15625   ,  0.05      ,  0.10714286,  0.8902439 ,  0.79310345,\n",
       "        0.65384615,  0.94174757,  0.65116279,  0.59459459,  0.58823529,\n",
       "        0.0952381 ,  0.10638298,  0.20430108,  0.89361702,  0.65217391,\n",
       "        0.84090909,  0.92753623,  0.89156627,  0.89333333,  0.890625  ,\n",
       "        0.38709677,  0.60869565,  0.65853659,  0.42105263,  0.88405797,\n",
       "        0.92473118,  0.86486486,  0.02985075,  0.40625   ,  0.97916667,\n",
       "        0.52631579,  0.19230769,  0.98571429,  0.53571429,  0.12765957,\n",
       "        0.97333333,  0.67857143,  0.93506494,  0.88976378,  0.87037037,\n",
       "        0.81081081,  0.12244898,  0.51724138,  0.89502762,  0.51851852,\n",
       "        0.93181818,  0.82692308,  0.73529412,  0.22857143,  0.62962963,\n",
       "        0.31034483,  0.9787234 ,  0.96078431,  0.45714286,  0.98033708,\n",
       "        0.93877551,  0.86904762,  0.98268398,  0.98850575,  0.98148148,\n",
       "        0.56756757,  0.99145299,  0.17948718,  0.71641791,  0.91111111,\n",
       "        0.82653061,  0.98734177,  0.984375  ,  0.58064516,  0.47826087,\n",
       "        0.44      ,  0.39130435,  0.20454545,  0.98351648,  0.95714286,\n",
       "        0.96503497,  0.86263736,  0.12      ,  0.76595745,  0.86440678,\n",
       "        0.89873418,  0.91525424,  0.91071429,  0.88636364,  0.48275862,\n",
       "        0.03571429,  0.98591549,  0.69090909,  0.9516129 ,  0.48780488,\n",
       "        0.13793103,  0.08108108,  0.11904762,  0.80597015,  0.9273743 ,\n",
       "        0.89308176,  0.3960396 ,  0.98245614,  0.99415205,  0.98969072,\n",
       "        0.96721311,  0.64788732,  0.23333333,  0.99196787,  0.87603306,\n",
       "        0.86567164,  0.87096774,  0.83269962,  0.84057971,  0.82978723,\n",
       "        0.78333333,  0.80434783,  0.78787879,  0.95121951,  0.13157895,\n",
       "        0.96923077,  0.08571429,  0.98701299,  0.775     ,  0.90163934,\n",
       "        0.9245283 ,  0.34285714,  0.14814815,  0.83529412,  0.79487179,\n",
       "        0.74666667,  0.73239437,  0.74285714,  0.63855422,  0.63414634,\n",
       "        0.04347826,  0.84782609,  0.81632653,  0.94871795,  0.04301075,\n",
       "        0.22580645,  0.98924731,  0.84375   ,  0.94047619,  0.91891892,\n",
       "        0.85416667,  0.67307692,  0.97468354,  0.74545455,  0.7311828 ,\n",
       "        0.45945946,  0.97938144,  0.92405063,  0.97101449,  0.68493151,\n",
       "        0.58      ,  0.79104478,  0.68888889,  0.99278846,  0.87179487,\n",
       "        0.36111111,  0.36206897,  0.21621622,  0.08510638,  0.62745098,\n",
       "        0.48387097,  0.25806452,  0.98633257,  0.97761194,  0.9789916 ,\n",
       "        0.97530864,  0.96470588,  0.95588235,  0.89705882,  0.85483871,\n",
       "        0.72463768,  0.05405405,  0.8630137 ,  0.16129032,  0.29166667,\n",
       "        0.70454545,  0.23255814,  0.94623656,  0.95412844,  0.75555556,\n",
       "        0.67647059,  0.08      ,  0.98837209,  0.4137931 ,  0.59375   ,\n",
       "        0.52777778,  0.48      ,  0.46551724,  0.34146341,  0.36619718,\n",
       "        0.24137931,  0.30188679,  0.265625  ,  0.09756098,  0.13559322,\n",
       "        0.91440953,  0.91509434,  0.89622642,  0.86086957,  0.85436893,\n",
       "        0.85245902,  0.81609195,  0.8030303 ,  0.78      ,  0.77647059,\n",
       "        0.79545455,  0.76521739,  0.77966102,  0.72321429,  0.72972973,\n",
       "        0.67741935,  0.62222222,  0.98652291,  0.78873239,  0.26086957,\n",
       "        0.71875   ,  0.39285714,  0.87804878,  0.69444444,  0.79411765,\n",
       "        0.992     ,  0.97647059,  0.31578947,  0.31707317,  0.88679245,\n",
       "        0.79591837,  0.9261745 ,  0.8629174 ,  0.98666667,  0.26923077,\n",
       "        0.17857143,  0.38235294,  0.99180328,  0.15942029,  0.90277778,\n",
       "        0.36      ,  0.98507463,  0.7721519 ,  0.04651163,  0.68965517,\n",
       "        0.95890411,  0.06766917,  0.56603774,  0.69767442,  0.93442623,\n",
       "        0.97807757,  0.52173913,  0.75471698,  0.70967742,  0.98076923,\n",
       "        0.23809524,  0.95522388,  0.87142857,  0.74418605,  0.83783784,\n",
       "        0.75510204,  0.59090909,  0.89711934,  0.87301587,  0.89795918,\n",
       "        0.73493976,  0.99122807,  0.96644295,  0.95876289,  0.86046512,\n",
       "        0.07954545,  0.76666667,  0.16216216,  0.02739726,  0.09677419,\n",
       "        0.27659574,  0.83636364,  0.65306122,  0.53521127,  0.97580645,\n",
       "        0.93478261,  0.7755102 ,  0.98672566,  0.99619772,  0.9876161 ,\n",
       "        0.97169811,  0.92957746,  0.97534247,  0.97123894,  0.97191011,\n",
       "        0.97969543,  0.96478873,  0.95491803,  0.03508772,  0.73584906,\n",
       "        0.96341463,  0.69135802,  0.61764706,  0.74358974,  0.92428198,\n",
       "        0.93421053,  0.78723404,  0.37931034,  0.95762712,  0.92783505,\n",
       "        0.16      ,  0.34615385,  0.76388889,  0.63461538,  0.68518519,\n",
       "        0.67567568,  0.675     ,  0.98394495,  0.40540541,  0.57575758,\n",
       "        0.89189189,  0.86330935,  0.18604651,  0.98897059,  0.9673913 ,\n",
       "        0.9379562 ,  0.93243243,  0.98347107,  0.19444444,  0.91139241,\n",
       "        0.84444444,  0.93220339,  0.968     ,  0.53125   ,  0.71698113,\n",
       "        0.80672269,  0.02325581,  0.21875   ,  0.89519651,  0.71604938,\n",
       "        0.2826087 ,  0.07462687,  0.97887324,  0.58974359,  0.33928571,\n",
       "        0.21818182,  0.06779661,  0.28947368,  0.9625    ,  0.95081967,\n",
       "        0.91549296,  0.10344828,  0.99212598,  0.84848485,  0.07317073,\n",
       "        0.97831325,  0.97972973,  0.96511628,  0.9202454 ,  0.90140845,\n",
       "        0.14492754,  0.37837838,  0.46511628,  0.98765432,  0.98697068,\n",
       "        0.91875   ,  0.84274194,  0.84693878,  0.828125  ,  0.6969697 ,\n",
       "        0.02439024,  0.99090909,  0.94078947,  0.94666667,  0.98979592,\n",
       "        0.81132075,  0.87654321,  0.15277778,  0.68085106,  0.82022472,\n",
       "        0.88321168,  0.96703297,  0.08955224,  0.31818182,  0.96610169,\n",
       "        0.95302013,  0.94375   ,  0.81578947,  0.98319328,  0.98639456,\n",
       "        0.89719626,  0.99107143,  0.64864865,  0.88947368,  0.78688525,\n",
       "        0.825     ,  0.34482759,  0.95098039,  0.04444444,  0.95804196,\n",
       "        0.18461538,  0.97663551,  0.97196262,  0.72641509,  0.3877551 ,\n",
       "        0.85964912,  0.43333333,  0.34920635,  0.09195402,  0.98529412,\n",
       "        0.36666667,  0.9695122 ,  0.83928571,  0.75675676,  0.5862069 ,\n",
       "        0.98780488,  0.48648649,  0.03448276,  0.04285714,  0.96039604,\n",
       "        0.01098901,  0.43902439,  0.31428571,  0.95327103,  0.98695652,\n",
       "        0.94949495,  0.89230769,  0.83673469,  0.75438596,  0.24242424,\n",
       "        0.25961538,  0.75409836,  0.14634146,  0.9627907 ,  0.30232558,\n",
       "        0.97163121,  0.37037037,  0.0212766 ,  0.5952381 ,  0.995     ,\n",
       "        0.99029126,  0.99689441,  0.9691358 ,  0.74      ,  0.34210526,\n",
       "        0.38596491,  0.97857143,  0.90697674,  0.20588235,  0.97807018,\n",
       "        0.97905759,  0.77570093,  0.11666667,  0.85384615,  0.92380952,\n",
       "        0.76829268,  0.91612903,  0.91025641,  0.99019608,  0.58181818,\n",
       "        0.46875   ,  0.73170732,  0.97321429,  0.70731707,  0.59259259,\n",
       "        0.10810811,  0.89830508,  0.44827586,  0.97457627,  0.8961039 ,\n",
       "        0.54285714,  0.07843137,  0.98251748,  0.90234375,  0.02830189,\n",
       "        0.98947368,  0.98684211,  0.17073171,  0.69724771,  0.976     ,\n",
       "        0.98165138,  0.97590361,  0.90438247,  0.40740741,  0.8490566 ,\n",
       "        0.96410256,  0.9380531 ,  0.77358491,  0.17777778,  0.44117647,\n",
       "        0.03076923,  0.87755102,  0.0962963 ,  0.91836735,  0.87951807,\n",
       "        0.80851064,  0.99141104])"
      ]
     },
     "execution_count": 6,
     "metadata": {},
     "output_type": "execute_result"
    }
   ],
   "source": [
    "df['Helpful %'].unique()"
   ]
  },
  {
   "cell_type": "code",
   "execution_count": 7,
   "metadata": {},
   "outputs": [],
   "source": [
    "df['%upvote'] = pd.cut( df['Helpful %'] , bins = [-1, 0, 0.2, 0.4, 0.6, 0.8, 1.0], labels = ['Empty', '0-20%', '20-40%', '40-60%', '60-80%', '80-100%'])"
   ]
  },
  {
   "cell_type": "code",
   "execution_count": 8,
   "metadata": {},
   "outputs": [
    {
     "data": {
      "text/html": [
       "<div>\n",
       "<style scoped>\n",
       "    .dataframe tbody tr th:only-of-type {\n",
       "        vertical-align: middle;\n",
       "    }\n",
       "\n",
       "    .dataframe tbody tr th {\n",
       "        vertical-align: top;\n",
       "    }\n",
       "\n",
       "    .dataframe thead th {\n",
       "        text-align: right;\n",
       "    }\n",
       "</style>\n",
       "<table border=\"1\" class=\"dataframe\">\n",
       "  <thead>\n",
       "    <tr style=\"text-align: right;\">\n",
       "      <th></th>\n",
       "      <th>Id</th>\n",
       "      <th>ProductId</th>\n",
       "      <th>UserId</th>\n",
       "      <th>ProfileName</th>\n",
       "      <th>HelpfulnessNumerator</th>\n",
       "      <th>HelpfulnessDenominator</th>\n",
       "      <th>Score</th>\n",
       "      <th>Time</th>\n",
       "      <th>Summary</th>\n",
       "      <th>Text</th>\n",
       "      <th>Helpful %</th>\n",
       "      <th>%upvote</th>\n",
       "    </tr>\n",
       "  </thead>\n",
       "  <tbody>\n",
       "    <tr>\n",
       "      <th>0</th>\n",
       "      <td>1</td>\n",
       "      <td>B001E4KFG0</td>\n",
       "      <td>A3SGXH7AUHU8GW</td>\n",
       "      <td>delmartian</td>\n",
       "      <td>1</td>\n",
       "      <td>1</td>\n",
       "      <td>5</td>\n",
       "      <td>1303862400</td>\n",
       "      <td>Good Quality Dog Food</td>\n",
       "      <td>I have bought several of the Vitality canned d...</td>\n",
       "      <td>1.0</td>\n",
       "      <td>80-100%</td>\n",
       "    </tr>\n",
       "    <tr>\n",
       "      <th>1</th>\n",
       "      <td>2</td>\n",
       "      <td>B00813GRG4</td>\n",
       "      <td>A1D87F6ZCVE5NK</td>\n",
       "      <td>dll pa</td>\n",
       "      <td>0</td>\n",
       "      <td>0</td>\n",
       "      <td>1</td>\n",
       "      <td>1346976000</td>\n",
       "      <td>Not as Advertised</td>\n",
       "      <td>Product arrived labeled as Jumbo Salted Peanut...</td>\n",
       "      <td>-1.0</td>\n",
       "      <td>NaN</td>\n",
       "    </tr>\n",
       "    <tr>\n",
       "      <th>2</th>\n",
       "      <td>3</td>\n",
       "      <td>B000LQOCH0</td>\n",
       "      <td>ABXLMWJIXXAIN</td>\n",
       "      <td>Natalia Corres \"Natalia Corres\"</td>\n",
       "      <td>1</td>\n",
       "      <td>1</td>\n",
       "      <td>4</td>\n",
       "      <td>1219017600</td>\n",
       "      <td>\"Delight\" says it all</td>\n",
       "      <td>This is a confection that has been around a fe...</td>\n",
       "      <td>1.0</td>\n",
       "      <td>80-100%</td>\n",
       "    </tr>\n",
       "    <tr>\n",
       "      <th>3</th>\n",
       "      <td>4</td>\n",
       "      <td>B000UA0QIQ</td>\n",
       "      <td>A395BORC6FGVXV</td>\n",
       "      <td>Karl</td>\n",
       "      <td>3</td>\n",
       "      <td>3</td>\n",
       "      <td>2</td>\n",
       "      <td>1307923200</td>\n",
       "      <td>Cough Medicine</td>\n",
       "      <td>If you are looking for the secret ingredient i...</td>\n",
       "      <td>1.0</td>\n",
       "      <td>80-100%</td>\n",
       "    </tr>\n",
       "    <tr>\n",
       "      <th>4</th>\n",
       "      <td>5</td>\n",
       "      <td>B006K2ZZ7K</td>\n",
       "      <td>A1UQRSCLF8GW1T</td>\n",
       "      <td>Michael D. Bigham \"M. Wassir\"</td>\n",
       "      <td>0</td>\n",
       "      <td>0</td>\n",
       "      <td>5</td>\n",
       "      <td>1350777600</td>\n",
       "      <td>Great taffy</td>\n",
       "      <td>Great taffy at a great price.  There was a wid...</td>\n",
       "      <td>-1.0</td>\n",
       "      <td>NaN</td>\n",
       "    </tr>\n",
       "  </tbody>\n",
       "</table>\n",
       "</div>"
      ],
      "text/plain": [
       "   Id   ProductId          UserId                      ProfileName  \\\n",
       "0   1  B001E4KFG0  A3SGXH7AUHU8GW                       delmartian   \n",
       "1   2  B00813GRG4  A1D87F6ZCVE5NK                           dll pa   \n",
       "2   3  B000LQOCH0   ABXLMWJIXXAIN  Natalia Corres \"Natalia Corres\"   \n",
       "3   4  B000UA0QIQ  A395BORC6FGVXV                             Karl   \n",
       "4   5  B006K2ZZ7K  A1UQRSCLF8GW1T    Michael D. Bigham \"M. Wassir\"   \n",
       "\n",
       "   HelpfulnessNumerator  HelpfulnessDenominator  Score        Time  \\\n",
       "0                     1                       1      5  1303862400   \n",
       "1                     0                       0      1  1346976000   \n",
       "2                     1                       1      4  1219017600   \n",
       "3                     3                       3      2  1307923200   \n",
       "4                     0                       0      5  1350777600   \n",
       "\n",
       "                 Summary                                               Text  \\\n",
       "0  Good Quality Dog Food  I have bought several of the Vitality canned d...   \n",
       "1      Not as Advertised  Product arrived labeled as Jumbo Salted Peanut...   \n",
       "2  \"Delight\" says it all  This is a confection that has been around a fe...   \n",
       "3         Cough Medicine  If you are looking for the secret ingredient i...   \n",
       "4            Great taffy  Great taffy at a great price.  There was a wid...   \n",
       "\n",
       "   Helpful %  %upvote  \n",
       "0        1.0  80-100%  \n",
       "1       -1.0      NaN  \n",
       "2        1.0  80-100%  \n",
       "3        1.0  80-100%  \n",
       "4       -1.0      NaN  "
      ]
     },
     "execution_count": 8,
     "metadata": {},
     "output_type": "execute_result"
    }
   ],
   "source": [
    "df.head()"
   ]
  },
  {
   "cell_type": "code",
   "execution_count": 9,
   "metadata": {},
   "outputs": [
    {
     "data": {
      "text/html": [
       "<div>\n",
       "<style scoped>\n",
       "    .dataframe tbody tr th:only-of-type {\n",
       "        vertical-align: middle;\n",
       "    }\n",
       "\n",
       "    .dataframe tbody tr th {\n",
       "        vertical-align: top;\n",
       "    }\n",
       "\n",
       "    .dataframe thead th {\n",
       "        text-align: right;\n",
       "    }\n",
       "</style>\n",
       "<table border=\"1\" class=\"dataframe\">\n",
       "  <thead>\n",
       "    <tr style=\"text-align: right;\">\n",
       "      <th></th>\n",
       "      <th>Score</th>\n",
       "      <th>%upvote</th>\n",
       "      <th>Id</th>\n",
       "    </tr>\n",
       "  </thead>\n",
       "  <tbody>\n",
       "    <tr>\n",
       "      <th>0</th>\n",
       "      <td>1</td>\n",
       "      <td>Empty</td>\n",
       "      <td>8060</td>\n",
       "    </tr>\n",
       "    <tr>\n",
       "      <th>1</th>\n",
       "      <td>1</td>\n",
       "      <td>0-20%</td>\n",
       "      <td>2338</td>\n",
       "    </tr>\n",
       "    <tr>\n",
       "      <th>2</th>\n",
       "      <td>1</td>\n",
       "      <td>20-40%</td>\n",
       "      <td>4649</td>\n",
       "    </tr>\n",
       "    <tr>\n",
       "      <th>3</th>\n",
       "      <td>1</td>\n",
       "      <td>40-60%</td>\n",
       "      <td>6586</td>\n",
       "    </tr>\n",
       "    <tr>\n",
       "      <th>4</th>\n",
       "      <td>1</td>\n",
       "      <td>60-80%</td>\n",
       "      <td>5838</td>\n",
       "    </tr>\n",
       "    <tr>\n",
       "      <th>5</th>\n",
       "      <td>1</td>\n",
       "      <td>80-100%</td>\n",
       "      <td>12531</td>\n",
       "    </tr>\n",
       "    <tr>\n",
       "      <th>6</th>\n",
       "      <td>2</td>\n",
       "      <td>Empty</td>\n",
       "      <td>4234</td>\n",
       "    </tr>\n",
       "    <tr>\n",
       "      <th>7</th>\n",
       "      <td>2</td>\n",
       "      <td>0-20%</td>\n",
       "      <td>762</td>\n",
       "    </tr>\n",
       "    <tr>\n",
       "      <th>8</th>\n",
       "      <td>2</td>\n",
       "      <td>20-40%</td>\n",
       "      <td>1618</td>\n",
       "    </tr>\n",
       "    <tr>\n",
       "      <th>9</th>\n",
       "      <td>2</td>\n",
       "      <td>40-60%</td>\n",
       "      <td>3051</td>\n",
       "    </tr>\n",
       "    <tr>\n",
       "      <th>10</th>\n",
       "      <td>2</td>\n",
       "      <td>60-80%</td>\n",
       "      <td>2486</td>\n",
       "    </tr>\n",
       "    <tr>\n",
       "      <th>11</th>\n",
       "      <td>2</td>\n",
       "      <td>80-100%</td>\n",
       "      <td>7014</td>\n",
       "    </tr>\n",
       "    <tr>\n",
       "      <th>12</th>\n",
       "      <td>3</td>\n",
       "      <td>Empty</td>\n",
       "      <td>5062</td>\n",
       "    </tr>\n",
       "    <tr>\n",
       "      <th>13</th>\n",
       "      <td>3</td>\n",
       "      <td>0-20%</td>\n",
       "      <td>474</td>\n",
       "    </tr>\n",
       "    <tr>\n",
       "      <th>14</th>\n",
       "      <td>3</td>\n",
       "      <td>20-40%</td>\n",
       "      <td>1506</td>\n",
       "    </tr>\n",
       "    <tr>\n",
       "      <th>15</th>\n",
       "      <td>3</td>\n",
       "      <td>40-60%</td>\n",
       "      <td>3384</td>\n",
       "    </tr>\n",
       "    <tr>\n",
       "      <th>16</th>\n",
       "      <td>3</td>\n",
       "      <td>60-80%</td>\n",
       "      <td>2754</td>\n",
       "    </tr>\n",
       "    <tr>\n",
       "      <th>17</th>\n",
       "      <td>3</td>\n",
       "      <td>80-100%</td>\n",
       "      <td>11037</td>\n",
       "    </tr>\n",
       "    <tr>\n",
       "      <th>18</th>\n",
       "      <td>4</td>\n",
       "      <td>Empty</td>\n",
       "      <td>4780</td>\n",
       "    </tr>\n",
       "    <tr>\n",
       "      <th>19</th>\n",
       "      <td>4</td>\n",
       "      <td>0-20%</td>\n",
       "      <td>116</td>\n",
       "    </tr>\n",
       "    <tr>\n",
       "      <th>20</th>\n",
       "      <td>4</td>\n",
       "      <td>20-40%</td>\n",
       "      <td>909</td>\n",
       "    </tr>\n",
       "    <tr>\n",
       "      <th>21</th>\n",
       "      <td>4</td>\n",
       "      <td>40-60%</td>\n",
       "      <td>3185</td>\n",
       "    </tr>\n",
       "    <tr>\n",
       "      <th>22</th>\n",
       "      <td>4</td>\n",
       "      <td>60-80%</td>\n",
       "      <td>2941</td>\n",
       "    </tr>\n",
       "    <tr>\n",
       "      <th>23</th>\n",
       "      <td>4</td>\n",
       "      <td>80-100%</td>\n",
       "      <td>26707</td>\n",
       "    </tr>\n",
       "    <tr>\n",
       "      <th>24</th>\n",
       "      <td>5</td>\n",
       "      <td>Empty</td>\n",
       "      <td>11638</td>\n",
       "    </tr>\n",
       "    <tr>\n",
       "      <th>25</th>\n",
       "      <td>5</td>\n",
       "      <td>0-20%</td>\n",
       "      <td>432</td>\n",
       "    </tr>\n",
       "    <tr>\n",
       "      <th>26</th>\n",
       "      <td>5</td>\n",
       "      <td>20-40%</td>\n",
       "      <td>2275</td>\n",
       "    </tr>\n",
       "    <tr>\n",
       "      <th>27</th>\n",
       "      <td>5</td>\n",
       "      <td>40-60%</td>\n",
       "      <td>10312</td>\n",
       "    </tr>\n",
       "    <tr>\n",
       "      <th>28</th>\n",
       "      <td>5</td>\n",
       "      <td>60-80%</td>\n",
       "      <td>11060</td>\n",
       "    </tr>\n",
       "    <tr>\n",
       "      <th>29</th>\n",
       "      <td>5</td>\n",
       "      <td>80-100%</td>\n",
       "      <td>140661</td>\n",
       "    </tr>\n",
       "  </tbody>\n",
       "</table>\n",
       "</div>"
      ],
      "text/plain": [
       "    Score  %upvote      Id\n",
       "0       1    Empty    8060\n",
       "1       1    0-20%    2338\n",
       "2       1   20-40%    4649\n",
       "3       1   40-60%    6586\n",
       "4       1   60-80%    5838\n",
       "5       1  80-100%   12531\n",
       "6       2    Empty    4234\n",
       "7       2    0-20%     762\n",
       "8       2   20-40%    1618\n",
       "9       2   40-60%    3051\n",
       "10      2   60-80%    2486\n",
       "11      2  80-100%    7014\n",
       "12      3    Empty    5062\n",
       "13      3    0-20%     474\n",
       "14      3   20-40%    1506\n",
       "15      3   40-60%    3384\n",
       "16      3   60-80%    2754\n",
       "17      3  80-100%   11037\n",
       "18      4    Empty    4780\n",
       "19      4    0-20%     116\n",
       "20      4   20-40%     909\n",
       "21      4   40-60%    3185\n",
       "22      4   60-80%    2941\n",
       "23      4  80-100%   26707\n",
       "24      5    Empty   11638\n",
       "25      5    0-20%     432\n",
       "26      5   20-40%    2275\n",
       "27      5   40-60%   10312\n",
       "28      5   60-80%   11060\n",
       "29      5  80-100%  140661"
      ]
     },
     "execution_count": 9,
     "metadata": {},
     "output_type": "execute_result"
    }
   ],
   "source": [
    "df_s=df.groupby(['Score', '%upvote']).agg({'Id':'count'}).reset_index()\n",
    "df_s"
   ]
  },
  {
   "cell_type": "markdown",
   "metadata": {},
   "source": [
    "#### create Pivot Table for better conclusion"
   ]
  },
  {
   "cell_type": "code",
   "execution_count": 57,
   "metadata": {},
   "outputs": [
    {
     "data": {
      "text/html": [
       "<div>\n",
       "<style scoped>\n",
       "    .dataframe tbody tr th:only-of-type {\n",
       "        vertical-align: middle;\n",
       "    }\n",
       "\n",
       "    .dataframe tbody tr th {\n",
       "        vertical-align: top;\n",
       "    }\n",
       "\n",
       "    .dataframe thead tr th {\n",
       "        text-align: left;\n",
       "    }\n",
       "\n",
       "    .dataframe thead tr:last-of-type th {\n",
       "        text-align: right;\n",
       "    }\n",
       "</style>\n",
       "<table border=\"1\" class=\"dataframe\">\n",
       "  <thead>\n",
       "    <tr>\n",
       "      <th></th>\n",
       "      <th colspan=\"6\" halign=\"left\">Id</th>\n",
       "    </tr>\n",
       "    <tr>\n",
       "      <th>Score</th>\n",
       "      <th>1</th>\n",
       "      <th>2</th>\n",
       "      <th>3</th>\n",
       "      <th>4</th>\n",
       "      <th>5</th>\n",
       "      <th>All</th>\n",
       "    </tr>\n",
       "    <tr>\n",
       "      <th>%upvote</th>\n",
       "      <th></th>\n",
       "      <th></th>\n",
       "      <th></th>\n",
       "      <th></th>\n",
       "      <th></th>\n",
       "      <th></th>\n",
       "    </tr>\n",
       "  </thead>\n",
       "  <tbody>\n",
       "    <tr>\n",
       "      <th>Empty</th>\n",
       "      <td>8060</td>\n",
       "      <td>4234.000000</td>\n",
       "      <td>5062.000000</td>\n",
       "      <td>4780.000000</td>\n",
       "      <td>11638.000000</td>\n",
       "      <td>6754.800000</td>\n",
       "    </tr>\n",
       "    <tr>\n",
       "      <th>0-20%</th>\n",
       "      <td>2338</td>\n",
       "      <td>762.000000</td>\n",
       "      <td>474.000000</td>\n",
       "      <td>116.000000</td>\n",
       "      <td>432.000000</td>\n",
       "      <td>824.400000</td>\n",
       "    </tr>\n",
       "    <tr>\n",
       "      <th>20-40%</th>\n",
       "      <td>4649</td>\n",
       "      <td>1618.000000</td>\n",
       "      <td>1506.000000</td>\n",
       "      <td>909.000000</td>\n",
       "      <td>2275.000000</td>\n",
       "      <td>2191.400000</td>\n",
       "    </tr>\n",
       "    <tr>\n",
       "      <th>40-60%</th>\n",
       "      <td>6586</td>\n",
       "      <td>3051.000000</td>\n",
       "      <td>3384.000000</td>\n",
       "      <td>3185.000000</td>\n",
       "      <td>10312.000000</td>\n",
       "      <td>5303.600000</td>\n",
       "    </tr>\n",
       "    <tr>\n",
       "      <th>60-80%</th>\n",
       "      <td>5838</td>\n",
       "      <td>2486.000000</td>\n",
       "      <td>2754.000000</td>\n",
       "      <td>2941.000000</td>\n",
       "      <td>11060.000000</td>\n",
       "      <td>5015.800000</td>\n",
       "    </tr>\n",
       "    <tr>\n",
       "      <th>80-100%</th>\n",
       "      <td>12531</td>\n",
       "      <td>7014.000000</td>\n",
       "      <td>11037.000000</td>\n",
       "      <td>26707.000000</td>\n",
       "      <td>140661.000000</td>\n",
       "      <td>39590.000000</td>\n",
       "    </tr>\n",
       "    <tr>\n",
       "      <th>All</th>\n",
       "      <td>6667</td>\n",
       "      <td>3194.166667</td>\n",
       "      <td>4036.166667</td>\n",
       "      <td>6439.666667</td>\n",
       "      <td>29396.333333</td>\n",
       "      <td>9946.666667</td>\n",
       "    </tr>\n",
       "  </tbody>\n",
       "</table>\n",
       "</div>"
      ],
      "text/plain": [
       "            Id                                                          \\\n",
       "Score        1            2             3             4              5   \n",
       "%upvote                                                                  \n",
       "Empty     8060  4234.000000   5062.000000   4780.000000   11638.000000   \n",
       "0-20%     2338   762.000000    474.000000    116.000000     432.000000   \n",
       "20-40%    4649  1618.000000   1506.000000    909.000000    2275.000000   \n",
       "40-60%    6586  3051.000000   3384.000000   3185.000000   10312.000000   \n",
       "60-80%    5838  2486.000000   2754.000000   2941.000000   11060.000000   \n",
       "80-100%  12531  7014.000000  11037.000000  26707.000000  140661.000000   \n",
       "All       6667  3194.166667   4036.166667   6439.666667   29396.333333   \n",
       "\n",
       "                       \n",
       "Score             All  \n",
       "%upvote                \n",
       "Empty     6754.800000  \n",
       "0-20%      824.400000  \n",
       "20-40%    2191.400000  \n",
       "40-60%    5303.600000  \n",
       "60-80%    5015.800000  \n",
       "80-100%  39590.000000  \n",
       "All       9946.666667  "
      ]
     },
     "execution_count": 57,
     "metadata": {},
     "output_type": "execute_result"
    }
   ],
   "source": [
    "df_s.pivot_table(index='%upvote',columns='Score', margins=True)"
   ]
  },
  {
   "cell_type": "markdown",
   "metadata": {},
   "source": [
    "#### create heatmap of it,for better Visualisations"
   ]
  },
  {
   "cell_type": "code",
   "execution_count": 11,
   "metadata": {},
   "outputs": [
    {
     "data": {
      "text/plain": [
       "Text(0.5, 1.0, 'How helpful users find among user scores')"
      ]
     },
     "execution_count": 11,
     "metadata": {},
     "output_type": "execute_result"
    },
    {
     "data": {
      "image/png": "[encoded data removed]",
      "text/plain": [
       "<Figure size 432x288 with 2 Axes>"
      ]
     },
     "metadata": {
      "needs_background": "light"
     },
     "output_type": "display_data"
    }
   ],
   "source": [
    "import seaborn as sns\n",
    "import matplotlib.pyplot as plt\n",
    "sns.heatmap(df_s.pivot(index='%upvote',columns='Score'),annot=True,cmap = 'YlGnBu')\n",
    "plt.title('How helpful users find among user scores')"
   ]
  },
  {
   "cell_type": "markdown",
   "metadata": {},
   "source": [
    "### Key message from above:\n",
    "\n",
    "#### Reviews are skewed towards positive\n",
    "#### More than half of the reviews are with zero votes\n",
    "#### Many people agree with score 5 reviews"
   ]
  },
  {
   "cell_type": "code",
   "execution_count": 12,
   "metadata": {},
   "outputs": [
    {
     "data": {
      "text/plain": [
       "(568454, 12)"
      ]
     },
     "execution_count": 12,
     "metadata": {},
     "output_type": "execute_result"
    }
   ],
   "source": [
    "df.shape"
   ]
  },
  {
   "cell_type": "code",
   "execution_count": 13,
   "metadata": {},
   "outputs": [
    {
     "data": {
      "text/html": [
       "<div>\n",
       "<style scoped>\n",
       "    .dataframe tbody tr th:only-of-type {\n",
       "        vertical-align: middle;\n",
       "    }\n",
       "\n",
       "    .dataframe tbody tr th {\n",
       "        vertical-align: top;\n",
       "    }\n",
       "\n",
       "    .dataframe thead th {\n",
       "        text-align: right;\n",
       "    }\n",
       "</style>\n",
       "<table border=\"1\" class=\"dataframe\">\n",
       "  <thead>\n",
       "    <tr style=\"text-align: right;\">\n",
       "      <th></th>\n",
       "      <th>Id</th>\n",
       "      <th>ProductId</th>\n",
       "      <th>UserId</th>\n",
       "      <th>ProfileName</th>\n",
       "      <th>HelpfulnessNumerator</th>\n",
       "      <th>HelpfulnessDenominator</th>\n",
       "      <th>Score</th>\n",
       "      <th>Time</th>\n",
       "      <th>Summary</th>\n",
       "      <th>Text</th>\n",
       "      <th>Helpful %</th>\n",
       "      <th>%upvote</th>\n",
       "    </tr>\n",
       "  </thead>\n",
       "  <tbody>\n",
       "    <tr>\n",
       "      <th>0</th>\n",
       "      <td>1</td>\n",
       "      <td>B001E4KFG0</td>\n",
       "      <td>A3SGXH7AUHU8GW</td>\n",
       "      <td>delmartian</td>\n",
       "      <td>1</td>\n",
       "      <td>1</td>\n",
       "      <td>5</td>\n",
       "      <td>1303862400</td>\n",
       "      <td>Good Quality Dog Food</td>\n",
       "      <td>I have bought several of the Vitality canned d...</td>\n",
       "      <td>1.0</td>\n",
       "      <td>80-100%</td>\n",
       "    </tr>\n",
       "    <tr>\n",
       "      <th>1</th>\n",
       "      <td>2</td>\n",
       "      <td>B00813GRG4</td>\n",
       "      <td>A1D87F6ZCVE5NK</td>\n",
       "      <td>dll pa</td>\n",
       "      <td>0</td>\n",
       "      <td>0</td>\n",
       "      <td>1</td>\n",
       "      <td>1346976000</td>\n",
       "      <td>Not as Advertised</td>\n",
       "      <td>Product arrived labeled as Jumbo Salted Peanut...</td>\n",
       "      <td>-1.0</td>\n",
       "      <td>NaN</td>\n",
       "    </tr>\n",
       "    <tr>\n",
       "      <th>2</th>\n",
       "      <td>3</td>\n",
       "      <td>B000LQOCH0</td>\n",
       "      <td>ABXLMWJIXXAIN</td>\n",
       "      <td>Natalia Corres \"Natalia Corres\"</td>\n",
       "      <td>1</td>\n",
       "      <td>1</td>\n",
       "      <td>4</td>\n",
       "      <td>1219017600</td>\n",
       "      <td>\"Delight\" says it all</td>\n",
       "      <td>This is a confection that has been around a fe...</td>\n",
       "      <td>1.0</td>\n",
       "      <td>80-100%</td>\n",
       "    </tr>\n",
       "    <tr>\n",
       "      <th>3</th>\n",
       "      <td>4</td>\n",
       "      <td>B000UA0QIQ</td>\n",
       "      <td>A395BORC6FGVXV</td>\n",
       "      <td>Karl</td>\n",
       "      <td>3</td>\n",
       "      <td>3</td>\n",
       "      <td>2</td>\n",
       "      <td>1307923200</td>\n",
       "      <td>Cough Medicine</td>\n",
       "      <td>If you are looking for the secret ingredient i...</td>\n",
       "      <td>1.0</td>\n",
       "      <td>80-100%</td>\n",
       "    </tr>\n",
       "    <tr>\n",
       "      <th>4</th>\n",
       "      <td>5</td>\n",
       "      <td>B006K2ZZ7K</td>\n",
       "      <td>A1UQRSCLF8GW1T</td>\n",
       "      <td>Michael D. Bigham \"M. Wassir\"</td>\n",
       "      <td>0</td>\n",
       "      <td>0</td>\n",
       "      <td>5</td>\n",
       "      <td>1350777600</td>\n",
       "      <td>Great taffy</td>\n",
       "      <td>Great taffy at a great price.  There was a wid...</td>\n",
       "      <td>-1.0</td>\n",
       "      <td>NaN</td>\n",
       "    </tr>\n",
       "  </tbody>\n",
       "</table>\n",
       "</div>"
      ],
      "text/plain": [
       "   Id   ProductId          UserId                      ProfileName  \\\n",
       "0   1  B001E4KFG0  A3SGXH7AUHU8GW                       delmartian   \n",
       "1   2  B00813GRG4  A1D87F6ZCVE5NK                           dll pa   \n",
       "2   3  B000LQOCH0   ABXLMWJIXXAIN  Natalia Corres \"Natalia Corres\"   \n",
       "3   4  B000UA0QIQ  A395BORC6FGVXV                             Karl   \n",
       "4   5  B006K2ZZ7K  A1UQRSCLF8GW1T    Michael D. Bigham \"M. Wassir\"   \n",
       "\n",
       "   HelpfulnessNumerator  HelpfulnessDenominator  Score        Time  \\\n",
       "0                     1                       1      5  1303862400   \n",
       "1                     0                       0      1  1346976000   \n",
       "2                     1                       1      4  1219017600   \n",
       "3                     3                       3      2  1307923200   \n",
       "4                     0                       0      5  1350777600   \n",
       "\n",
       "                 Summary                                               Text  \\\n",
       "0  Good Quality Dog Food  I have bought several of the Vitality canned d...   \n",
       "1      Not as Advertised  Product arrived labeled as Jumbo Salted Peanut...   \n",
       "2  \"Delight\" says it all  This is a confection that has been around a fe...   \n",
       "3         Cough Medicine  If you are looking for the secret ingredient i...   \n",
       "4            Great taffy  Great taffy at a great price.  There was a wid...   \n",
       "\n",
       "   Helpful %  %upvote  \n",
       "0        1.0  80-100%  \n",
       "1       -1.0      NaN  \n",
       "2        1.0  80-100%  \n",
       "3        1.0  80-100%  \n",
       "4       -1.0      NaN  "
      ]
     },
     "execution_count": 13,
     "metadata": {},
     "output_type": "execute_result"
    }
   ],
   "source": [
    "df.head()"
   ]
  },
  {
   "cell_type": "code",
   "execution_count": 14,
   "metadata": {},
   "outputs": [
    {
     "data": {
      "text/plain": [
       "array([5, 1, 4, 2, 3])"
      ]
     },
     "execution_count": 14,
     "metadata": {},
     "output_type": "execute_result"
    }
   ],
   "source": [
    "df['Score'].unique()"
   ]
  },
  {
   "cell_type": "code",
   "execution_count": 15,
   "metadata": {},
   "outputs": [],
   "source": [
    "df2 = df[df['Score'] != 3]\n",
    "X = df2['Text']\n",
    "y_dict = {1:0, 2:0, 4:1, 5:1}\n",
    "y = df2['Score'].map(y_dict)"
   ]
  },
  {
   "cell_type": "markdown",
   "metadata": {},
   "source": [
    "####  a function so that mutliple NLP Techniques + Multiple Ml algos can be applied to get best accuracy"
   ]
  },
  {
   "cell_type": "code",
   "execution_count": 16,
   "metadata": {},
   "outputs": [],
   "source": [
    "### create a function \n",
    "\n",
    "def text_fit(X, y, nlp_model,ml_model,coef_show=1):\n",
    "    \n",
    "    X_c = nlp_model.fit_transform(X)\n",
    "    print('features: {}'.format(X_c.shape[1]))\n",
    "    X_train, X_test, y_train, y_test = train_test_split(X_c, y)\n",
    "    print(' train records: {}'.format(X_train.shape[0]))\n",
    "    print(' test records: {}'.format(X_test.shape[0]))\n",
    "    ml =ml_model.fit(X_train, y_train)\n",
    "    acc = ml.score(X_test, y_test)\n",
    "    print ('Model Accuracy: {}'.format(acc))\n",
    "    \n",
    "    if coef_show == 1: \n",
    "        w = nlp_model.get_feature_names()\n",
    "        coef = ml.coef_.tolist()[0]\n",
    "        coeff_df = pd.DataFrame({'Word' : w, 'Coefficient' : coef})\n",
    "        coeff_df = coeff_df.sort_values(['Coefficient', 'Word'], ascending=[0, 1])\n",
    "        print('\\n')\n",
    "        print('-Top 20 positive-')\n",
    "        print(coeff_df.head(20).to_string(index=False))\n",
    "        print('\\n')\n",
    "        print('-Top 20 negative-')        \n",
    "        print(coeff_df.tail(20).to_string(index=False))\n"
   ]
  },
  {
   "cell_type": "code",
   "execution_count": 21,
   "metadata": {},
   "outputs": [],
   "source": [
    "from sklearn.model_selection import train_test_split\n",
    "from sklearn.feature_extraction.text import CountVectorizer\n",
    "c = CountVectorizer(stop_words = 'english')\n",
    "from sklearn.linear_model import LogisticRegression"
   ]
  },
  {
   "cell_type": "code",
   "execution_count": 22,
   "metadata": {},
   "outputs": [
    {
     "name": "stdout",
     "output_type": "stream",
     "text": [
      "features: 114969\n",
      " train records: 394360\n",
      " test records: 131454\n",
      "Model Accuracy: 0.9369741506534606\n",
      "\n",
      "\n",
      "-Top 20 positive-\n",
      "        Word  Coefficient\n",
      "  pleasantly     4.133651\n",
      "    downside     3.618332\n",
      "   addicting     3.214267\n",
      "   skeptical     3.074878\n",
      "      hooked     2.359175\n",
      "  economical     2.320463\n",
      "    tastiest     2.308574\n",
      "      resist     2.295721\n",
      "     worries     2.291929\n",
      "    terrific     2.291747\n",
      "     easiest     2.285834\n",
      "      delish     2.285788\n",
      "     trainer     2.262396\n",
      "         met     2.225443\n",
      "    obsessed     2.124272\n",
      "   excellent     2.109682\n",
      "        whim     2.091279\n",
      "prescription     2.064488\n",
      "      solved     2.060116\n",
      "         fav     2.045948\n",
      "\n",
      "\n",
      "-Top 20 negative-\n",
      "          Word  Coefficient\n",
      "         ruins    -2.439736\n",
      "          nope    -2.452657\n",
      "        lacked    -2.614619\n",
      "    unbearable    -2.625828\n",
      "disappointment    -2.632474\n",
      "   embarrassed    -2.670990\n",
      "         blech    -2.678650\n",
      "        ruined    -2.712256\n",
      "       defeats    -2.772411\n",
      "    overpowers    -2.799909\n",
      "   disapointed    -2.826453\n",
      "    returnable    -2.902996\n",
      "         worst    -3.019782\n",
      "  unacceptable    -3.049506\n",
      "        ripoff    -3.105255\n",
      "     cancelled    -3.143398\n",
      "      mediocre    -3.205551\n",
      " disappointing    -3.208677\n",
      "     deceptive    -3.809642\n",
      "   undrinkable    -4.129577\n"
     ]
    }
   ],
   "source": [
    "text_fit(X, y, c, LogisticRegression())"
   ]
  },
  {
   "cell_type": "markdown",
   "metadata": {},
   "source": [
    "### Lets define a predict function"
   ]
  },
  {
   "cell_type": "code",
   "execution_count": 23,
   "metadata": {},
   "outputs": [],
   "source": [
    "from sklearn.metrics import confusion_matrix,accuracy_score\n",
    "def predict(X, y, nlp_model,ml_model):\n",
    "    \n",
    "    X_c = nlp_model.fit_transform(X)\n",
    "    print('features: {}'.format(X_c.shape[1]))\n",
    "    X_train, X_test, y_train, y_test = train_test_split(X_c, y)\n",
    "    print(' train records: {}'.format(X_train.shape[0]))\n",
    "    print(' test records: {}'.format(X_test.shape[0]))\n",
    "    ml =ml_model.fit(X_train, y_train)\n",
    "    predictions=ml.predict(X_test)\n",
    "    cm=confusion_matrix(predictions,y_test)\n",
    "    print(cm)\n",
    "    acc=accuracy_score(predictions,y_test)\n",
    "    print(acc)"
   ]
  },
  {
   "cell_type": "code",
   "execution_count": 24,
   "metadata": {},
   "outputs": [],
   "source": [
    "from sklearn.feature_extraction.text import CountVectorizer\n",
    "c = CountVectorizer(stop_words = 'english')\n",
    "from sklearn.linear_model import LogisticRegression\n",
    "lr=LogisticRegression()"
   ]
  },
  {
   "cell_type": "code",
   "execution_count": 25,
   "metadata": {},
   "outputs": [
    {
     "name": "stdout",
     "output_type": "stream",
     "text": [
      "features: 114969\n",
      " train records: 394360\n",
      " test records: 131454\n",
      "[[ 14728   2758]\n",
      " [  5680 108288]]\n",
      "0.9358102454090405\n"
     ]
    }
   ],
   "source": [
    "predict(X,y,c,lr)"
   ]
  },
  {
   "cell_type": "markdown",
   "metadata": {},
   "source": [
    "#### Accuracy is around 93.9% - not bad. However we notice that some of those significant coefficients are not meaningful"
   ]
  },
  {
   "cell_type": "code",
   "execution_count": 26,
   "metadata": {},
   "outputs": [],
   "source": [
    "from sklearn.dummy import DummyClassifier"
   ]
  },
  {
   "cell_type": "code",
   "execution_count": 27,
   "metadata": {},
   "outputs": [
    {
     "name": "stdout",
     "output_type": "stream",
     "text": [
      "features: 114969\n",
      " train records: 394360\n",
      " test records: 131454\n",
      "Model Accuracy: 0.8434661554612259\n"
     ]
    }
   ],
   "source": [
    "### calling function for dummy classifier \n",
    "text_fit(X, y, c, DummyClassifier(),0)"
   ]
  },
  {
   "cell_type": "markdown",
   "metadata": {},
   "source": [
    "#### Logistic regression model on TFIDF"
   ]
  },
  {
   "cell_type": "code",
   "execution_count": 28,
   "metadata": {},
   "outputs": [
    {
     "name": "stdout",
     "output_type": "stream",
     "text": [
      "features: 114969\n",
      " train records: 394360\n",
      " test records: 131454\n",
      "Model Accuracy: 0.9342279428545347\n",
      "\n",
      "\n",
      "-Top 20 positive-\n",
      "      Word  Coefficient\n",
      "     great    13.613996\n",
      " delicious    12.435644\n",
      "      best    11.562037\n",
      "   perfect    10.570918\n",
      "     loves     9.518075\n",
      " excellent     9.373853\n",
      "    highly     8.893637\n",
      "      love     8.738564\n",
      " wonderful     7.864151\n",
      "   amazing     7.675897\n",
      "      good     7.551240\n",
      "pleasantly     7.289815\n",
      "   awesome     7.248757\n",
      "  favorite     7.242217\n",
      "    hooked     7.125168\n",
      "   pleased     6.920886\n",
      "      nice     6.792372\n",
      " fantastic     6.623544\n",
      " skeptical     6.559550\n",
      "     yummy     6.485417\n",
      "\n",
      "\n",
      "-Top 20 negative-\n",
      "          Word  Coefficient\n",
      "        hoping    -5.657552\n",
      "    flavorless    -5.821217\n",
      "          yuck    -6.179108\n",
      "         worse    -6.197547\n",
      "         stale    -6.260812\n",
      "         bland    -6.308353\n",
      "     tasteless    -6.357758\n",
      "   undrinkable    -6.451955\n",
      "         threw    -6.554336\n",
      "    disgusting    -6.584961\n",
      "          weak    -6.605857\n",
      "        return    -6.675030\n",
      "      horrible    -7.758623\n",
      " unfortunately    -8.071991\n",
      "disappointment    -8.109908\n",
      "         awful    -8.274366\n",
      "  disappointed    -8.419986\n",
      "      terrible    -9.177695\n",
      " disappointing    -9.791989\n",
      "         worst   -11.460005\n"
     ]
    }
   ],
   "source": [
    "from sklearn.feature_extraction.text import TfidfVectorizer\n",
    "tfidf = TfidfVectorizer(stop_words = 'english')\n",
    "text_fit(X, y, tfidf, LogisticRegression())"
   ]
  },
  {
   "cell_type": "code",
   "execution_count": 29,
   "metadata": {},
   "outputs": [
    {
     "name": "stdout",
     "output_type": "stream",
     "text": [
      "features: 114969\n",
      " train records: 394360\n",
      " test records: 131454\n",
      "[[ 14205   2219]\n",
      " [  6396 108634]]\n",
      "0.9344637667929466\n"
     ]
    }
   ],
   "source": [
    "from sklearn.feature_extraction.text import TfidfVectorizer\n",
    "tfidf = TfidfVectorizer(stop_words = 'english')\n",
    "predict(X, y, tfidf, LogisticRegression())"
   ]
  },
  {
   "cell_type": "raw",
   "metadata": {},
   "source": [
    "Accurany is roughly the same - 93.5%. However we notice that the significant words make much more sense now, with higher coefficient magnitude as well!"
   ]
  },
  {
   "cell_type": "markdown",
   "metadata": {},
   "source": [
    "#### Upvote prediction"
   ]
  },
  {
   "cell_type": "markdown",
   "metadata": {},
   "source": [
    "    We will be focusing on score 5 reviews, and get rid of comments with neutral votes"
   ]
  },
  {
   "cell_type": "code",
   "execution_count": 30,
   "metadata": {},
   "outputs": [],
   "source": [
    "data = df[df['Score'] == 5]"
   ]
  },
  {
   "cell_type": "code",
   "execution_count": 31,
   "metadata": {},
   "outputs": [
    {
     "data": {
      "text/plain": [
       "Index(['Id', 'ProductId', 'UserId', 'ProfileName', 'HelpfulnessNumerator',\n",
       "       'HelpfulnessDenominator', 'Score', 'Time', 'Summary', 'Text',\n",
       "       'Helpful %', '%upvote'],\n",
       "      dtype='object')"
      ]
     },
     "execution_count": 31,
     "metadata": {},
     "output_type": "execute_result"
    }
   ],
   "source": [
    "data.columns"
   ]
  },
  {
   "cell_type": "code",
   "execution_count": 32,
   "metadata": {},
   "outputs": [
    {
     "data": {
      "text/plain": [
       "(154428, 12)"
      ]
     },
     "execution_count": 32,
     "metadata": {},
     "output_type": "execute_result"
    }
   ],
   "source": [
    "data2 = data[data['%upvote'].isin(['0-20%', '20-40%', '60-80%', '80-100%'])]\n",
    "data2.shape"
   ]
  },
  {
   "cell_type": "code",
   "execution_count": 33,
   "metadata": {},
   "outputs": [],
   "source": [
    "X = data2['Text']"
   ]
  },
  {
   "cell_type": "code",
   "execution_count": 34,
   "metadata": {},
   "outputs": [],
   "source": [
    "y_dict = {'0-20%': 0, '20-40%': 0, '60-80%': 1, '80-100%': 1}\n",
    "y = data2['%upvote'].map(y_dict)"
   ]
  },
  {
   "cell_type": "code",
   "execution_count": 35,
   "metadata": {},
   "outputs": [
    {
     "name": "stdout",
     "output_type": "stream",
     "text": [
      "1.0    151721\n",
      "0.0      2707\n",
      "Name: %upvote, dtype: int64\n"
     ]
    }
   ],
   "source": [
    "print(y.value_counts())"
   ]
  },
  {
   "cell_type": "markdown",
   "metadata": {},
   "source": [
    "#### The target class 'y' is highly skewed , we will observe positive upvotes are too much higher than negative ones.\n",
    "    Let's resample the data to get balanced data:"
   ]
  },
  {
   "cell_type": "code",
   "execution_count": 36,
   "metadata": {},
   "outputs": [],
   "source": [
    "from sklearn.feature_extraction.text import TfidfVectorizer"
   ]
  },
  {
   "cell_type": "code",
   "execution_count": 37,
   "metadata": {},
   "outputs": [],
   "source": [
    "tf=TfidfVectorizer()"
   ]
  },
  {
   "cell_type": "code",
   "execution_count": 38,
   "metadata": {},
   "outputs": [],
   "source": [
    "X_c=tf.fit_transform(X)"
   ]
  },
  {
   "cell_type": "code",
   "execution_count": 39,
   "metadata": {},
   "outputs": [],
   "source": [
    "from sklearn.model_selection import train_test_split\n",
    "X_train,X_test,y_train,y_test=train_test_split(X_c,y,train_size=0.7)"
   ]
  },
  {
   "cell_type": "code",
   "execution_count": 40,
   "metadata": {},
   "outputs": [
    {
     "data": {
      "text/plain": [
       "1.0    45494\n",
       "0.0      835\n",
       "Name: %upvote, dtype: int64"
      ]
     },
     "execution_count": 40,
     "metadata": {},
     "output_type": "execute_result"
    }
   ],
   "source": [
    "y_test.value_counts()"
   ]
  },
  {
   "cell_type": "code",
   "execution_count": 43,
   "metadata": {},
   "outputs": [],
   "source": [
    "## RandomOverSampler to handle imbalanced data\n",
    "\n",
    "from imblearn.over_sampling import RandomOverSampler"
   ]
  },
  {
   "cell_type": "code",
   "execution_count": 44,
   "metadata": {},
   "outputs": [],
   "source": [
    "os =  RandomOverSampler()"
   ]
  },
  {
   "cell_type": "code",
   "execution_count": 46,
   "metadata": {},
   "outputs": [],
   "source": [
    "X_train_res, y_train_res = os.fit_resample(X_c, y)"
   ]
  },
  {
   "cell_type": "code",
   "execution_count": 47,
   "metadata": {},
   "outputs": [
    {
     "data": {
      "text/plain": [
       "((303442, 67507), (303442,))"
      ]
     },
     "execution_count": 47,
     "metadata": {},
     "output_type": "execute_result"
    }
   ],
   "source": [
    "X_train_res.shape,y_train_res.shape"
   ]
  },
  {
   "cell_type": "code",
   "execution_count": 48,
   "metadata": {},
   "outputs": [],
   "source": [
    "from collections import Counter"
   ]
  },
  {
   "cell_type": "code",
   "execution_count": 49,
   "metadata": {},
   "outputs": [
    {
     "name": "stdout",
     "output_type": "stream",
     "text": [
      "Original dataset shape Counter({1.0: 151721, 0.0: 2707})\n",
      "Resampled dataset shape Counter({1.0: 151721, 0.0: 151721})\n"
     ]
    }
   ],
   "source": [
    "print('Original dataset shape {}'.format(Counter(y)))\n",
    "print('Resampled dataset shape {}'.format(Counter(y_train_res)))"
   ]
  },
  {
   "cell_type": "code",
   "execution_count": 50,
   "metadata": {},
   "outputs": [],
   "source": [
    "from sklearn.linear_model import LogisticRegression"
   ]
  },
  {
   "cell_type": "code",
   "execution_count": 51,
   "metadata": {},
   "outputs": [],
   "source": [
    "log_class=LogisticRegression()"
   ]
  },
  {
   "cell_type": "code",
   "execution_count": 52,
   "metadata": {},
   "outputs": [],
   "source": [
    "grid={'C':10.0 **np.arange(-2,3),'penalty':['l1','l2']}"
   ]
  },
  {
   "cell_type": "code",
   "execution_count": 53,
   "metadata": {},
   "outputs": [],
   "source": [
    "import numpy as np\n",
    "from sklearn.model_selection import GridSearchCV"
   ]
  },
  {
   "cell_type": "code",
   "execution_count": 54,
   "metadata": {},
   "outputs": [
    {
     "data": {
      "text/plain": [
       "GridSearchCV(cv=5, estimator=LogisticRegression(), n_jobs=-1,\n",
       "             param_grid={'C': array([1.e-02, 1.e-01, 1.e+00, 1.e+01, 1.e+02]),\n",
       "                         'penalty': ['l1', 'l2']},\n",
       "             scoring='f1_macro')"
      ]
     },
     "execution_count": 54,
     "metadata": {},
     "output_type": "execute_result"
    }
   ],
   "source": [
    "clf=GridSearchCV(estimator=log_class,param_grid=grid,cv=5,n_jobs=-1,scoring='f1_macro')\n",
    "clf.fit(X_train_res,y_train_res)"
   ]
  },
  {
   "cell_type": "code",
   "execution_count": 55,
   "metadata": {},
   "outputs": [
    {
     "name": "stdout",
     "output_type": "stream",
     "text": [
      "[[  835     0]\n",
      " [  612 44882]]\n",
      "0.9867901314511429\n"
     ]
    }
   ],
   "source": [
    "y_pred=clf.predict(X_test)\n",
    "print(confusion_matrix(y_test,y_pred))\n",
    "print(accuracy_score(y_test,y_pred))"
   ]
  },
  {
   "cell_type": "markdown",
   "metadata": {},
   "source": [
    "## Succesfully created a Logistic Regression Model that predicts the score of an Amazon review correctly with 98.6% accuracy"
   ]
  }
 ],
 "metadata": {
  "kernelspec": {
   "display_name": "Python 3",
   "language": "python",
   "name": "python3"
  },
  "language_info": {
   "codemirror_mode": {
    "name": "ipython",
    "version": 3
   },
   "file_extension": ".py",
   "mimetype": "text/x-python",
   "name": "python",
   "nbconvert_exporter": "python",
   "pygments_lexer": "ipython3",
   "version": "3.8.8"
  }
 },
 "nbformat": 4,
 "nbformat_minor": 2
}
